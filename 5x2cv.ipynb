{
 "cells": [
  {
   "cell_type": "code",
   "execution_count": 1,
   "metadata": {},
   "outputs": [],
   "source": [
    "# Author: Ahmet Yildirim\n",
    "# Date: 30.04.2019"
   ]
  },
  {
   "cell_type": "code",
   "execution_count": 2,
   "metadata": {},
   "outputs": [],
   "source": [
    "import numpy as np\n",
    "import pandas as pd\n",
    "from sklearn.model_selection import GridSearchCV\n",
    "from sklearn.model_selection import train_test_split\n",
    "from sklearn.model_selection import StratifiedKFold\n",
    "from sklearn.model_selection import cross_val_score\n",
    "from sklearn.linear_model import LogisticRegression\n",
    "from sklearn.neighbors import KNeighborsClassifier\n",
    "from sklearn.svm import SVC\n",
    "from sklearn.metrics import accuracy_score\n",
    "from sklearn.datasets import load_iris\n",
    "import warnings\n",
    "\n",
    "warnings.filterwarnings(\"ignore\")\n",
    "pd.options.display.max_rows=500\n",
    "pd.options.display.max_columns=50"
   ]
  },
  {
   "cell_type": "code",
   "execution_count": 3,
   "metadata": {},
   "outputs": [],
   "source": [
    "def find_optimal_parameters(est, p_grid, X_train, y_train, n=2, scr='accuracy'):\n",
    "    cv = StratifiedKFold(n_splits=n, \n",
    "                         shuffle=True, \n",
    "                         random_state=1)  \n",
    "    \n",
    "    return GridSearchCV(estimator=est,\n",
    "                        param_grid=p_grid,\n",
    "                        scoring=scr,\n",
    "                        n_jobs=1,\n",
    "                        cv=cv,\n",
    "                        verbose=0,\n",
    "                        refit=True)"
   ]
  },
  {
   "cell_type": "code",
   "execution_count": 4,
   "metadata": {},
   "outputs": [],
   "source": [
    "def compute_nested_score(est, X_train, y_train, n):\n",
    "    cv = StratifiedKFold(n_splits=n,\n",
    "                         shuffle=True,\n",
    "                         random_state=1)\n",
    "    \n",
    "    nested_score = cross_val_score(est,\n",
    "                                   X=X_train,\n",
    "                                   y=y_train,\n",
    "                                   cv=cv,\n",
    "                                   n_jobs=1)\n",
    "    \n",
    "    return {'mean_score': nested_score.mean() * 100, 'std_score':nested_score.std() * 100}"
   ]
  },
  {
   "cell_type": "code",
   "execution_count": 5,
   "metadata": {},
   "outputs": [],
   "source": [
    "def compare_models(est_dict, X_train, y_train, n=5):\n",
    "    return {name: compute_nested_score(est, X_train, y_train, n) for name, est in est_dict.items()}"
   ]
  },
  {
   "cell_type": "code",
   "execution_count": 6,
   "metadata": {},
   "outputs": [],
   "source": [
    "# Loading and splitting the dataset\n",
    "dataset = load_iris()\n",
    "X = dataset['data']\n",
    "y = dataset['target']\n",
    "X = X.astype(np.float32)\n",
    "y = y.astype(np.float32)\n",
    "X_train, X_test, y_train, y_test = train_test_split(X, y, train_size=0.8, test_size=0.2, random_state=1, stratify=y)"
   ]
  },
  {
   "cell_type": "code",
   "execution_count": 7,
   "metadata": {},
   "outputs": [],
   "source": [
    "# Estimators\n",
    "logreg = LogisticRegression(multi_class='multinomial', solver='newton-cg', random_state=1)\n",
    "knn = KNeighborsClassifier(algorithm='ball_tree', leaf_size=50)\n",
    "svm = SVC(random_state=1)\n",
    "\n",
    "# Parameter Grids for Estimators\n",
    "p_grid_logreg = [{'penalty': ['l2'],\n",
    "              'C': np.power(10., np.arange(-4, 4))}]\n",
    "\n",
    "p_grid_knn = [{'n_neighbors': list(range(1, 10)),\n",
    "               'p': [1, 2]}]\n",
    "\n",
    "p_grid_svm = [{'kernel': ['rbf'],\n",
    "              'C': np.power(10., np.arange(-4, 4)),\n",
    "              'gamma': np.power(10., np.arange(-5, 0))},\n",
    "             {'kernel': ['linear'],\n",
    "              'C': np.power(10., np.arange(-4, 4))}]\n",
    "\n",
    "# Estimator List and Parameter Grid List\n",
    "est_names = ['LogisticRegression', 'KNN', 'SVM']\n",
    "est_list = [logreg, knn, svm]\n",
    "p_grid_list = [p_grid_logreg, p_grid_knn, p_grid_svm]"
   ]
  },
  {
   "cell_type": "code",
   "execution_count": 8,
   "metadata": {},
   "outputs": [],
   "source": [
    "# Estimator dictionary with tuned parameters\n",
    "tuned_est_dict = {name: find_optimal_parameters(est, p_grid, X_train, y_train, n=2, scr='accuracy') for name, est, p_grid in zip(est_names, est_list, p_grid_list)}"
   ]
  },
  {
   "cell_type": "code",
   "execution_count": 9,
   "metadata": {
    "scrolled": true
   },
   "outputs": [],
   "source": [
    "# Comparison of estimators with tuned parameters\n",
    "result = compare_models(tuned_est_dict, X_train, y_train, n=5)"
   ]
  },
  {
   "cell_type": "code",
   "execution_count": 12,
   "metadata": {},
   "outputs": [
    {
     "data": {
      "text/html": [
       "<div>\n",
       "<style scoped>\n",
       "    .dataframe tbody tr th:only-of-type {\n",
       "        vertical-align: middle;\n",
       "    }\n",
       "\n",
       "    .dataframe tbody tr th {\n",
       "        vertical-align: top;\n",
       "    }\n",
       "\n",
       "    .dataframe thead th {\n",
       "        text-align: right;\n",
       "    }\n",
       "</style>\n",
       "<table border=\"1\" class=\"dataframe\">\n",
       "  <thead>\n",
       "    <tr style=\"text-align: right;\">\n",
       "      <th></th>\n",
       "      <th>mean_score</th>\n",
       "      <th>std_score</th>\n",
       "    </tr>\n",
       "  </thead>\n",
       "  <tbody>\n",
       "    <tr>\n",
       "      <th>SVM</th>\n",
       "      <td>96.666667</td>\n",
       "      <td>3.118048</td>\n",
       "    </tr>\n",
       "    <tr>\n",
       "      <th>KNN</th>\n",
       "      <td>96.666667</td>\n",
       "      <td>3.118048</td>\n",
       "    </tr>\n",
       "    <tr>\n",
       "      <th>LogisticRegression</th>\n",
       "      <td>94.166667</td>\n",
       "      <td>4.249183</td>\n",
       "    </tr>\n",
       "  </tbody>\n",
       "</table>\n",
       "</div>"
      ],
      "text/plain": [
       "                    mean_score  std_score\n",
       "SVM                  96.666667   3.118048\n",
       "KNN                  96.666667   3.118048\n",
       "LogisticRegression   94.166667   4.249183"
      ]
     },
     "execution_count": 12,
     "metadata": {},
     "output_type": "execute_result"
    }
   ],
   "source": [
    "pd.DataFrame(result).T.sort_values(['mean_score','std_score'],ascending=[False,True])"
   ]
  },
  {
   "cell_type": "code",
   "execution_count": null,
   "metadata": {},
   "outputs": [],
   "source": []
  }
 ],
 "metadata": {
  "kernelspec": {
   "display_name": "Python 3",
   "language": "python",
   "name": "python3"
  },
  "language_info": {
   "codemirror_mode": {
    "name": "ipython",
    "version": 3
   },
   "file_extension": ".py",
   "mimetype": "text/x-python",
   "name": "python",
   "nbconvert_exporter": "python",
   "pygments_lexer": "ipython3",
   "version": "3.7.3"
  }
 },
 "nbformat": 4,
 "nbformat_minor": 2
}
