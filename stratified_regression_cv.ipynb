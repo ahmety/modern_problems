{
 "cells": [
  {
   "cell_type": "code",
   "execution_count": 1,
   "metadata": {
    "ExecuteTime": {
     "end_time": "2020-10-30T12:35:39.935815Z",
     "start_time": "2020-10-30T12:35:39.921807Z"
    }
   },
   "outputs": [],
   "source": [
    "# Author: Ahmet Yildirim\n",
    "# Date: 30.10.2020"
   ]
  },
  {
   "cell_type": "code",
   "execution_count": 2,
   "metadata": {
    "ExecuteTime": {
     "end_time": "2020-10-30T12:35:42.293155Z",
     "start_time": "2020-10-30T12:35:39.938817Z"
    }
   },
   "outputs": [],
   "source": [
    "import numpy as np\n",
    "import pandas as pd\n",
    "from sklearn.model_selection import cross_validate\n",
    "from sklearn.ensemble import GradientBoostingRegressor\n",
    "from sklearn.metrics import make_scorer, mean_squared_error, r2_score\n",
    "from sklearn.datasets import load_boston\n",
    "import warnings"
   ]
  },
  {
   "cell_type": "code",
   "execution_count": 3,
   "metadata": {
    "ExecuteTime": {
     "end_time": "2020-10-30T12:35:42.308176Z",
     "start_time": "2020-10-30T12:35:42.297157Z"
    }
   },
   "outputs": [],
   "source": [
    "warnings.filterwarnings(\"ignore\")\n",
    "pd.options.display.max_rows = 500\n",
    "pd.options.display.max_columns = 50"
   ]
  },
  {
   "cell_type": "code",
   "execution_count": 10,
   "metadata": {
    "ExecuteTime": {
     "end_time": "2020-10-30T12:52:45.721173Z",
     "start_time": "2020-10-30T12:52:45.697172Z"
    }
   },
   "outputs": [],
   "source": [
    "def stratified_regression_split(data_size, n_splits=5):\n",
    "    n_range = np.arange(n_splits)\n",
    "    shuffle = np.vectorize(np.random.RandomState(\n",
    "        seed=26).permutation, signature='(n)->(n)')\n",
    "\n",
    "    divisible_size = data_size - data_size % n_splits\n",
    "    ind = np.arange(divisible_size).reshape(\n",
    "        (int(np.floor(data_size/n_splits)), n_splits))\n",
    "    shuffled_ind = shuffle(ind).transpose()\n",
    "    return ((shuffled_ind[np.delete(n_range, n)].flatten(), shuffled_ind[n]) for n in n_range)"
   ]
  },
  {
   "cell_type": "code",
   "execution_count": 11,
   "metadata": {
    "ExecuteTime": {
     "end_time": "2020-10-30T12:52:46.545201Z",
     "start_time": "2020-10-30T12:52:46.505198Z"
    }
   },
   "outputs": [],
   "source": [
    "# Loading the dataset\n",
    "dataset = load_boston()\n",
    "data = pd.DataFrame(dataset['data'])\n",
    "data['target'] = dataset['target']\n",
    "\n",
    "# Random splitting the test data\n",
    "test_size = 20/100\n",
    "test = data.sample(int(data.shape[0]*test_size), random_state=11)\n",
    "\n",
    "# Sorting the train data by target\n",
    "train = data.drop(test.index).sort_values(by='target')"
   ]
  },
  {
   "cell_type": "code",
   "execution_count": 12,
   "metadata": {
    "ExecuteTime": {
     "end_time": "2020-10-30T12:52:46.797735Z",
     "start_time": "2020-10-30T12:52:46.776732Z"
    }
   },
   "outputs": [],
   "source": [
    "# Defining X and y\n",
    "X_train = train.drop(['target'], 1).values\n",
    "y_train = train['target'].values.ravel()\n",
    "\n",
    "X_test = test.drop(['target'], 1).values\n",
    "y_test = test['target'].values.ravel()"
   ]
  },
  {
   "cell_type": "code",
   "execution_count": 13,
   "metadata": {
    "ExecuteTime": {
     "end_time": "2020-10-30T12:52:47.153763Z",
     "start_time": "2020-10-30T12:52:47.136762Z"
    }
   },
   "outputs": [],
   "source": [
    "# Estimator\n",
    "gb = GradientBoostingRegressor()"
   ]
  },
  {
   "cell_type": "code",
   "execution_count": 14,
   "metadata": {
    "ExecuteTime": {
     "end_time": "2020-10-30T12:52:47.685385Z",
     "start_time": "2020-10-30T12:52:47.428227Z"
    }
   },
   "outputs": [],
   "source": [
    "# Cross validate on stratified splits\n",
    "# Data should be sorted by target variable before cross validation\n",
    "gb_results = cross_validate(gb, X_train, y_train, cv=stratified_regression_split(\n",
    "    X_train.shape[0], n_splits=5), scoring=('r2', 'neg_mean_squared_error'), return_train_score=True)"
   ]
  },
  {
   "cell_type": "code",
   "execution_count": 15,
   "metadata": {
    "ExecuteTime": {
     "end_time": "2020-10-30T12:52:47.933497Z",
     "start_time": "2020-10-30T12:52:47.900499Z"
    }
   },
   "outputs": [
    {
     "data": {
      "text/html": [
       "<div>\n",
       "<style scoped>\n",
       "    .dataframe tbody tr th:only-of-type {\n",
       "        vertical-align: middle;\n",
       "    }\n",
       "\n",
       "    .dataframe tbody tr th {\n",
       "        vertical-align: top;\n",
       "    }\n",
       "\n",
       "    .dataframe thead th {\n",
       "        text-align: right;\n",
       "    }\n",
       "</style>\n",
       "<table border=\"1\" class=\"dataframe\">\n",
       "  <thead>\n",
       "    <tr style=\"text-align: right;\">\n",
       "      <th></th>\n",
       "      <th>fit_time</th>\n",
       "      <th>score_time</th>\n",
       "      <th>test_r2</th>\n",
       "      <th>train_r2</th>\n",
       "      <th>test_neg_mean_squared_error</th>\n",
       "      <th>train_neg_mean_squared_error</th>\n",
       "    </tr>\n",
       "  </thead>\n",
       "  <tbody>\n",
       "    <tr>\n",
       "      <td>0</td>\n",
       "      <td>0.052002</td>\n",
       "      <td>0.001000</td>\n",
       "      <td>0.920915</td>\n",
       "      <td>0.985006</td>\n",
       "      <td>-6.725400</td>\n",
       "      <td>-1.252209</td>\n",
       "    </tr>\n",
       "    <tr>\n",
       "      <td>1</td>\n",
       "      <td>0.033003</td>\n",
       "      <td>0.001000</td>\n",
       "      <td>0.912648</td>\n",
       "      <td>0.985257</td>\n",
       "      <td>-7.211364</td>\n",
       "      <td>-1.240448</td>\n",
       "    </tr>\n",
       "    <tr>\n",
       "      <td>2</td>\n",
       "      <td>0.031998</td>\n",
       "      <td>0.001001</td>\n",
       "      <td>0.821904</td>\n",
       "      <td>0.983943</td>\n",
       "      <td>-15.084663</td>\n",
       "      <td>-1.342388</td>\n",
       "    </tr>\n",
       "    <tr>\n",
       "      <td>3</td>\n",
       "      <td>0.032000</td>\n",
       "      <td>0.001000</td>\n",
       "      <td>0.905489</td>\n",
       "      <td>0.983465</td>\n",
       "      <td>-7.969533</td>\n",
       "      <td>-1.383897</td>\n",
       "    </tr>\n",
       "    <tr>\n",
       "      <td>4</td>\n",
       "      <td>0.063005</td>\n",
       "      <td>0.001000</td>\n",
       "      <td>0.911381</td>\n",
       "      <td>0.984256</td>\n",
       "      <td>-7.308974</td>\n",
       "      <td>-1.324960</td>\n",
       "    </tr>\n",
       "  </tbody>\n",
       "</table>\n",
       "</div>"
      ],
      "text/plain": [
       "   fit_time  score_time   test_r2  train_r2  test_neg_mean_squared_error  \\\n",
       "0  0.052002    0.001000  0.920915  0.985006                    -6.725400   \n",
       "1  0.033003    0.001000  0.912648  0.985257                    -7.211364   \n",
       "2  0.031998    0.001001  0.821904  0.983943                   -15.084663   \n",
       "3  0.032000    0.001000  0.905489  0.983465                    -7.969533   \n",
       "4  0.063005    0.001000  0.911381  0.984256                    -7.308974   \n",
       "\n",
       "   train_neg_mean_squared_error  \n",
       "0                     -1.252209  \n",
       "1                     -1.240448  \n",
       "2                     -1.342388  \n",
       "3                     -1.383897  \n",
       "4                     -1.324960  "
      ]
     },
     "execution_count": 15,
     "metadata": {},
     "output_type": "execute_result"
    }
   ],
   "source": [
    "# Scores for each split\n",
    "pd.DataFrame(gb_results)"
   ]
  },
  {
   "cell_type": "code",
   "execution_count": null,
   "metadata": {},
   "outputs": [],
   "source": []
  }
 ],
 "metadata": {
  "kernelspec": {
   "display_name": "Python 3",
   "language": "python",
   "name": "python3"
  },
  "language_info": {
   "codemirror_mode": {
    "name": "ipython",
    "version": 3
   },
   "file_extension": ".py",
   "mimetype": "text/x-python",
   "name": "python",
   "nbconvert_exporter": "python",
   "pygments_lexer": "ipython3",
   "version": "3.7.4"
  },
  "toc": {
   "base_numbering": 1,
   "nav_menu": {},
   "number_sections": true,
   "sideBar": true,
   "skip_h1_title": false,
   "title_cell": "Table of Contents",
   "title_sidebar": "Contents",
   "toc_cell": false,
   "toc_position": {},
   "toc_section_display": true,
   "toc_window_display": false
  }
 },
 "nbformat": 4,
 "nbformat_minor": 2
}
